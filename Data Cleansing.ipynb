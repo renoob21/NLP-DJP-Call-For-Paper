{
 "cells": [
  {
   "cell_type": "markdown",
   "id": "1f2d69b2",
   "metadata": {},
   "source": [
    "# Data Cleansing"
   ]
  },
  {
   "cell_type": "code",
   "execution_count": 1,
   "id": "815421f3",
   "metadata": {},
   "outputs": [],
   "source": [
    "import pandas as pd\n",
    "import numpy as np"
   ]
  },
  {
   "cell_type": "markdown",
   "id": "c4e01955",
   "metadata": {},
   "source": [
    "First, we will open both scrapped addresses, and make 2 Data Frames objects"
   ]
  },
  {
   "cell_type": "code",
   "execution_count": 2,
   "id": "45edd5ec",
   "metadata": {},
   "outputs": [],
   "source": [
    "al1 = pd.read_csv('Scraped Address.csv',index_col=0)\n",
    "al2 = pd.read_csv('Scraped Address1.csv',index_col=0)"
   ]
  },
  {
   "cell_type": "code",
   "execution_count": 3,
   "id": "06f7b288",
   "metadata": {},
   "outputs": [
    {
     "data": {
      "text/html": [
       "<div>\n",
       "<style scoped>\n",
       "    .dataframe tbody tr th:only-of-type {\n",
       "        vertical-align: middle;\n",
       "    }\n",
       "\n",
       "    .dataframe tbody tr th {\n",
       "        vertical-align: top;\n",
       "    }\n",
       "\n",
       "    .dataframe thead th {\n",
       "        text-align: right;\n",
       "    }\n",
       "</style>\n",
       "<table border=\"1\" class=\"dataframe\">\n",
       "  <thead>\n",
       "    <tr style=\"text-align: right;\">\n",
       "      <th></th>\n",
       "      <th>address</th>\n",
       "      <th>coordinate</th>\n",
       "    </tr>\n",
       "  </thead>\n",
       "  <tbody>\n",
       "    <tr>\n",
       "      <th>0</th>\n",
       "      <td>---</td>\n",
       "      <td>(-6.143128524262681, 106.91651876468018)</td>\n",
       "    </tr>\n",
       "    <tr>\n",
       "      <th>1</th>\n",
       "      <td>Alamat,Jl. Mahoni II 1-17, RT.12/RW.5, Sukapur...</td>\n",
       "      <td>(-6.138687045534676, 106.91779793446403)</td>\n",
       "    </tr>\n",
       "    <tr>\n",
       "      <th>2</th>\n",
       "      <td>---</td>\n",
       "      <td>(-6.138028008918625, 106.9199501681558)</td>\n",
       "    </tr>\n",
       "    <tr>\n",
       "      <th>3</th>\n",
       "      <td>Alamat,Jl. Panda Lestari II 1-3, RT.8/RW.9, Su...</td>\n",
       "      <td>(-6.143021205256485, 106.9165825639281)</td>\n",
       "    </tr>\n",
       "    <tr>\n",
       "      <th>4</th>\n",
       "      <td>Alamat,Jakarta Utara, RT.5/RW.5, Sukapura, Kec...</td>\n",
       "      <td>(-6.139193650845594, 106.9214912359129)</td>\n",
       "    </tr>\n",
       "  </tbody>\n",
       "</table>\n",
       "</div>"
      ],
      "text/plain": [
       "                                             address  \\\n",
       "0                                                ---   \n",
       "1  Alamat,Jl. Mahoni II 1-17, RT.12/RW.5, Sukapur...   \n",
       "2                                                ---   \n",
       "3  Alamat,Jl. Panda Lestari II 1-3, RT.8/RW.9, Su...   \n",
       "4  Alamat,Jakarta Utara, RT.5/RW.5, Sukapura, Kec...   \n",
       "\n",
       "                                 coordinate  \n",
       "0  (-6.143128524262681, 106.91651876468018)  \n",
       "1  (-6.138687045534676, 106.91779793446403)  \n",
       "2   (-6.138028008918625, 106.9199501681558)  \n",
       "3   (-6.143021205256485, 106.9165825639281)  \n",
       "4   (-6.139193650845594, 106.9214912359129)  "
      ]
     },
     "execution_count": 3,
     "metadata": {},
     "output_type": "execute_result"
    }
   ],
   "source": [
    "al1.head()"
   ]
  },
  {
   "cell_type": "code",
   "execution_count": 4,
   "id": "2fbbcd15",
   "metadata": {},
   "outputs": [
    {
     "data": {
      "text/html": [
       "<div>\n",
       "<style scoped>\n",
       "    .dataframe tbody tr th:only-of-type {\n",
       "        vertical-align: middle;\n",
       "    }\n",
       "\n",
       "    .dataframe tbody tr th {\n",
       "        vertical-align: top;\n",
       "    }\n",
       "\n",
       "    .dataframe thead th {\n",
       "        text-align: right;\n",
       "    }\n",
       "</style>\n",
       "<table border=\"1\" class=\"dataframe\">\n",
       "  <thead>\n",
       "    <tr style=\"text-align: right;\">\n",
       "      <th></th>\n",
       "      <th>address</th>\n",
       "      <th>coordinate</th>\n",
       "    </tr>\n",
       "  </thead>\n",
       "  <tbody>\n",
       "    <tr>\n",
       "      <th>0</th>\n",
       "      <td>Alamat,Jakarta Utara, Sukapura, Kec. Cilincing...</td>\n",
       "      <td>(-6.138905064854615, 106.92099301526054)</td>\n",
       "    </tr>\n",
       "    <tr>\n",
       "      <th>1</th>\n",
       "      <td>Alamat,Jakarta Utara, RT.8/RW.9, Sukapura, Kec...</td>\n",
       "      <td>(-6.143380928256133, 106.91659303441824)</td>\n",
       "    </tr>\n",
       "    <tr>\n",
       "      <th>2</th>\n",
       "      <td>Alamat,Jakarta Utara, Sukapura, Kec. Cilincing...</td>\n",
       "      <td>(-6.138587894839157, 106.92060247749289)</td>\n",
       "    </tr>\n",
       "    <tr>\n",
       "      <th>3</th>\n",
       "      <td>Alamat,Jl. Sukapura 57-29, RT.6/RW.5, Sukapura...</td>\n",
       "      <td>(-6.138783071613571, 106.92303697675014)</td>\n",
       "    </tr>\n",
       "    <tr>\n",
       "      <th>4</th>\n",
       "      <td>Alamat,RT.1/RW.9, Sukapura, Kec. Cilincing, Ko...</td>\n",
       "      <td>(-6.141040737796685, 106.91792669711212)</td>\n",
       "    </tr>\n",
       "  </tbody>\n",
       "</table>\n",
       "</div>"
      ],
      "text/plain": [
       "                                             address  \\\n",
       "0  Alamat,Jakarta Utara, Sukapura, Kec. Cilincing...   \n",
       "1  Alamat,Jakarta Utara, RT.8/RW.9, Sukapura, Kec...   \n",
       "2  Alamat,Jakarta Utara, Sukapura, Kec. Cilincing...   \n",
       "3  Alamat,Jl. Sukapura 57-29, RT.6/RW.5, Sukapura...   \n",
       "4  Alamat,RT.1/RW.9, Sukapura, Kec. Cilincing, Ko...   \n",
       "\n",
       "                                 coordinate  \n",
       "0  (-6.138905064854615, 106.92099301526054)  \n",
       "1  (-6.143380928256133, 106.91659303441824)  \n",
       "2  (-6.138587894839157, 106.92060247749289)  \n",
       "3  (-6.138783071613571, 106.92303697675014)  \n",
       "4  (-6.141040737796685, 106.91792669711212)  "
      ]
     },
     "execution_count": 4,
     "metadata": {},
     "output_type": "execute_result"
    }
   ],
   "source": [
    "al2.head()"
   ]
  },
  {
   "cell_type": "markdown",
   "id": "fb167e16",
   "metadata": {},
   "source": [
    "To start our data cleansing, let's take a quick look at their features using df.describe() method"
   ]
  },
  {
   "cell_type": "code",
   "execution_count": 5,
   "id": "8bdf05c6",
   "metadata": {},
   "outputs": [
    {
     "data": {
      "text/html": [
       "<div>\n",
       "<style scoped>\n",
       "    .dataframe tbody tr th:only-of-type {\n",
       "        vertical-align: middle;\n",
       "    }\n",
       "\n",
       "    .dataframe tbody tr th {\n",
       "        vertical-align: top;\n",
       "    }\n",
       "\n",
       "    .dataframe thead th {\n",
       "        text-align: right;\n",
       "    }\n",
       "</style>\n",
       "<table border=\"1\" class=\"dataframe\">\n",
       "  <thead>\n",
       "    <tr style=\"text-align: right;\">\n",
       "      <th></th>\n",
       "      <th>address</th>\n",
       "      <th>coordinate</th>\n",
       "    </tr>\n",
       "  </thead>\n",
       "  <tbody>\n",
       "    <tr>\n",
       "      <th>count</th>\n",
       "      <td>5500</td>\n",
       "      <td>5500</td>\n",
       "    </tr>\n",
       "    <tr>\n",
       "      <th>unique</th>\n",
       "      <td>3307</td>\n",
       "      <td>5500</td>\n",
       "    </tr>\n",
       "    <tr>\n",
       "      <th>top</th>\n",
       "      <td>Alamat,Jakarta Utara, RW.1, Koja, Kec. Koja, K...</td>\n",
       "      <td>(-6.143128524262681, 106.91651876468018)</td>\n",
       "    </tr>\n",
       "    <tr>\n",
       "      <th>freq</th>\n",
       "      <td>128</td>\n",
       "      <td>1</td>\n",
       "    </tr>\n",
       "  </tbody>\n",
       "</table>\n",
       "</div>"
      ],
      "text/plain": [
       "                                                  address  \\\n",
       "count                                                5500   \n",
       "unique                                               3307   \n",
       "top     Alamat,Jakarta Utara, RW.1, Koja, Kec. Koja, K...   \n",
       "freq                                                  128   \n",
       "\n",
       "                                      coordinate  \n",
       "count                                       5500  \n",
       "unique                                      5500  \n",
       "top     (-6.143128524262681, 106.91651876468018)  \n",
       "freq                                           1  "
      ]
     },
     "execution_count": 5,
     "metadata": {},
     "output_type": "execute_result"
    }
   ],
   "source": [
    "al1.describe()"
   ]
  },
  {
   "cell_type": "code",
   "execution_count": 6,
   "id": "4b59facf",
   "metadata": {},
   "outputs": [
    {
     "data": {
      "text/html": [
       "<div>\n",
       "<style scoped>\n",
       "    .dataframe tbody tr th:only-of-type {\n",
       "        vertical-align: middle;\n",
       "    }\n",
       "\n",
       "    .dataframe tbody tr th {\n",
       "        vertical-align: top;\n",
       "    }\n",
       "\n",
       "    .dataframe thead th {\n",
       "        text-align: right;\n",
       "    }\n",
       "</style>\n",
       "<table border=\"1\" class=\"dataframe\">\n",
       "  <thead>\n",
       "    <tr style=\"text-align: right;\">\n",
       "      <th></th>\n",
       "      <th>address</th>\n",
       "      <th>coordinate</th>\n",
       "    </tr>\n",
       "  </thead>\n",
       "  <tbody>\n",
       "    <tr>\n",
       "      <th>count</th>\n",
       "      <td>5500</td>\n",
       "      <td>5500</td>\n",
       "    </tr>\n",
       "    <tr>\n",
       "      <th>unique</th>\n",
       "      <td>3301</td>\n",
       "      <td>5500</td>\n",
       "    </tr>\n",
       "    <tr>\n",
       "      <th>top</th>\n",
       "      <td>Alamat,Jakarta Utara, RW.1, Koja, Kec. Koja, K...</td>\n",
       "      <td>(-6.138905064854615, 106.92099301526054)</td>\n",
       "    </tr>\n",
       "    <tr>\n",
       "      <th>freq</th>\n",
       "      <td>128</td>\n",
       "      <td>1</td>\n",
       "    </tr>\n",
       "  </tbody>\n",
       "</table>\n",
       "</div>"
      ],
      "text/plain": [
       "                                                  address  \\\n",
       "count                                                5500   \n",
       "unique                                               3301   \n",
       "top     Alamat,Jakarta Utara, RW.1, Koja, Kec. Koja, K...   \n",
       "freq                                                  128   \n",
       "\n",
       "                                      coordinate  \n",
       "count                                       5500  \n",
       "unique                                      5500  \n",
       "top     (-6.138905064854615, 106.92099301526054)  \n",
       "freq                                           1  "
      ]
     },
     "execution_count": 6,
     "metadata": {},
     "output_type": "execute_result"
    }
   ],
   "source": [
    "al2.describe()"
   ]
  },
  {
   "cell_type": "markdown",
   "id": "5f36c489",
   "metadata": {},
   "source": [
    "Then, we will concatenate both Data Frames, and create a new Data Frames that contains all the attributes from both"
   ]
  },
  {
   "cell_type": "code",
   "execution_count": 7,
   "id": "2f8320a6",
   "metadata": {},
   "outputs": [],
   "source": [
    "fix_add = pd.concat([al1,al2])"
   ]
  },
  {
   "cell_type": "code",
   "execution_count": 8,
   "id": "4a271d00",
   "metadata": {},
   "outputs": [
    {
     "data": {
      "text/html": [
       "<div>\n",
       "<style scoped>\n",
       "    .dataframe tbody tr th:only-of-type {\n",
       "        vertical-align: middle;\n",
       "    }\n",
       "\n",
       "    .dataframe tbody tr th {\n",
       "        vertical-align: top;\n",
       "    }\n",
       "\n",
       "    .dataframe thead th {\n",
       "        text-align: right;\n",
       "    }\n",
       "</style>\n",
       "<table border=\"1\" class=\"dataframe\">\n",
       "  <thead>\n",
       "    <tr style=\"text-align: right;\">\n",
       "      <th></th>\n",
       "      <th>address</th>\n",
       "      <th>coordinate</th>\n",
       "    </tr>\n",
       "  </thead>\n",
       "  <tbody>\n",
       "    <tr>\n",
       "      <th>0</th>\n",
       "      <td>---</td>\n",
       "      <td>(-6.143128524262681, 106.91651876468018)</td>\n",
       "    </tr>\n",
       "    <tr>\n",
       "      <th>1</th>\n",
       "      <td>Alamat,Jl. Mahoni II 1-17, RT.12/RW.5, Sukapur...</td>\n",
       "      <td>(-6.138687045534676, 106.91779793446403)</td>\n",
       "    </tr>\n",
       "    <tr>\n",
       "      <th>2</th>\n",
       "      <td>---</td>\n",
       "      <td>(-6.138028008918625, 106.9199501681558)</td>\n",
       "    </tr>\n",
       "    <tr>\n",
       "      <th>3</th>\n",
       "      <td>Alamat,Jl. Panda Lestari II 1-3, RT.8/RW.9, Su...</td>\n",
       "      <td>(-6.143021205256485, 106.9165825639281)</td>\n",
       "    </tr>\n",
       "    <tr>\n",
       "      <th>4</th>\n",
       "      <td>Alamat,Jakarta Utara, RT.5/RW.5, Sukapura, Kec...</td>\n",
       "      <td>(-6.139193650845594, 106.9214912359129)</td>\n",
       "    </tr>\n",
       "  </tbody>\n",
       "</table>\n",
       "</div>"
      ],
      "text/plain": [
       "                                             address  \\\n",
       "0                                                ---   \n",
       "1  Alamat,Jl. Mahoni II 1-17, RT.12/RW.5, Sukapur...   \n",
       "2                                                ---   \n",
       "3  Alamat,Jl. Panda Lestari II 1-3, RT.8/RW.9, Su...   \n",
       "4  Alamat,Jakarta Utara, RT.5/RW.5, Sukapura, Kec...   \n",
       "\n",
       "                                 coordinate  \n",
       "0  (-6.143128524262681, 106.91651876468018)  \n",
       "1  (-6.138687045534676, 106.91779793446403)  \n",
       "2   (-6.138028008918625, 106.9199501681558)  \n",
       "3   (-6.143021205256485, 106.9165825639281)  \n",
       "4   (-6.139193650845594, 106.9214912359129)  "
      ]
     },
     "execution_count": 8,
     "metadata": {},
     "output_type": "execute_result"
    }
   ],
   "source": [
    "fix_add.head()"
   ]
  },
  {
   "cell_type": "code",
   "execution_count": 9,
   "id": "6b2bc932",
   "metadata": {},
   "outputs": [
    {
     "data": {
      "text/html": [
       "<div>\n",
       "<style scoped>\n",
       "    .dataframe tbody tr th:only-of-type {\n",
       "        vertical-align: middle;\n",
       "    }\n",
       "\n",
       "    .dataframe tbody tr th {\n",
       "        vertical-align: top;\n",
       "    }\n",
       "\n",
       "    .dataframe thead th {\n",
       "        text-align: right;\n",
       "    }\n",
       "</style>\n",
       "<table border=\"1\" class=\"dataframe\">\n",
       "  <thead>\n",
       "    <tr style=\"text-align: right;\">\n",
       "      <th></th>\n",
       "      <th>address</th>\n",
       "      <th>coordinate</th>\n",
       "    </tr>\n",
       "  </thead>\n",
       "  <tbody>\n",
       "    <tr>\n",
       "      <th>count</th>\n",
       "      <td>11000</td>\n",
       "      <td>11000</td>\n",
       "    </tr>\n",
       "    <tr>\n",
       "      <th>unique</th>\n",
       "      <td>5395</td>\n",
       "      <td>11000</td>\n",
       "    </tr>\n",
       "    <tr>\n",
       "      <th>top</th>\n",
       "      <td>Alamat,Jakarta Utara, RW.1, Koja, Kec. Koja, K...</td>\n",
       "      <td>(-6.143128524262681, 106.91651876468018)</td>\n",
       "    </tr>\n",
       "    <tr>\n",
       "      <th>freq</th>\n",
       "      <td>256</td>\n",
       "      <td>1</td>\n",
       "    </tr>\n",
       "  </tbody>\n",
       "</table>\n",
       "</div>"
      ],
      "text/plain": [
       "                                                  address  \\\n",
       "count                                               11000   \n",
       "unique                                               5395   \n",
       "top     Alamat,Jakarta Utara, RW.1, Koja, Kec. Koja, K...   \n",
       "freq                                                  256   \n",
       "\n",
       "                                      coordinate  \n",
       "count                                      11000  \n",
       "unique                                     11000  \n",
       "top     (-6.143128524262681, 106.91651876468018)  \n",
       "freq                                           1  "
      ]
     },
     "execution_count": 9,
     "metadata": {},
     "output_type": "execute_result"
    }
   ],
   "source": [
    "fix_add.describe()"
   ]
  },
  {
   "cell_type": "markdown",
   "id": "716cc46e",
   "metadata": {},
   "source": [
    "We can see that from both data we collected, there are about 5000 unique entries. Let's begin to cleanse our data"
   ]
  },
  {
   "cell_type": "markdown",
   "id": "d8bd9e06",
   "metadata": {},
   "source": [
    "# Deleting Unnecessary Features\n",
    "\n",
    "As we can see, all the data contains '---' value which are errors on our scraping process. And all the addresses contains word 'Alamat,' in every start of the address."
   ]
  },
  {
   "cell_type": "code",
   "execution_count": 10,
   "id": "b6797cd3",
   "metadata": {},
   "outputs": [
    {
     "data": {
      "text/html": [
       "<div>\n",
       "<style scoped>\n",
       "    .dataframe tbody tr th:only-of-type {\n",
       "        vertical-align: middle;\n",
       "    }\n",
       "\n",
       "    .dataframe tbody tr th {\n",
       "        vertical-align: top;\n",
       "    }\n",
       "\n",
       "    .dataframe thead th {\n",
       "        text-align: right;\n",
       "    }\n",
       "</style>\n",
       "<table border=\"1\" class=\"dataframe\">\n",
       "  <thead>\n",
       "    <tr style=\"text-align: right;\">\n",
       "      <th></th>\n",
       "      <th>address</th>\n",
       "      <th>coordinate</th>\n",
       "    </tr>\n",
       "  </thead>\n",
       "  <tbody>\n",
       "    <tr>\n",
       "      <th>0</th>\n",
       "      <td>---</td>\n",
       "      <td>(-6.143128524262681, 106.91651876468018)</td>\n",
       "    </tr>\n",
       "    <tr>\n",
       "      <th>2</th>\n",
       "      <td>---</td>\n",
       "      <td>(-6.138028008918625, 106.9199501681558)</td>\n",
       "    </tr>\n",
       "    <tr>\n",
       "      <th>5</th>\n",
       "      <td>---</td>\n",
       "      <td>(-6.14024536916361, 106.9235926617797)</td>\n",
       "    </tr>\n",
       "    <tr>\n",
       "      <th>9</th>\n",
       "      <td>---</td>\n",
       "      <td>(-6.144156589875818, 106.91818344823734)</td>\n",
       "    </tr>\n",
       "    <tr>\n",
       "      <th>12</th>\n",
       "      <td>---</td>\n",
       "      <td>(-6.138818291205267, 106.9171197457654)</td>\n",
       "    </tr>\n",
       "    <tr>\n",
       "      <th>13</th>\n",
       "      <td>---</td>\n",
       "      <td>(-6.138856424436429, 106.92322849340151)</td>\n",
       "    </tr>\n",
       "    <tr>\n",
       "      <th>14</th>\n",
       "      <td>---</td>\n",
       "      <td>(-6.1382475416345175, 106.92174987614321)</td>\n",
       "    </tr>\n",
       "    <tr>\n",
       "      <th>15</th>\n",
       "      <td>---</td>\n",
       "      <td>(-6.141300362822412, 106.91631776326346)</td>\n",
       "    </tr>\n",
       "    <tr>\n",
       "      <th>16</th>\n",
       "      <td>---</td>\n",
       "      <td>(-6.142052106485477, 106.91897999620775)</td>\n",
       "    </tr>\n",
       "    <tr>\n",
       "      <th>19</th>\n",
       "      <td>---</td>\n",
       "      <td>(-6.139036613420874, 106.91978091343606)</td>\n",
       "    </tr>\n",
       "    <tr>\n",
       "      <th>20</th>\n",
       "      <td>---</td>\n",
       "      <td>(-6.140482007774161, 106.91836017560041)</td>\n",
       "    </tr>\n",
       "    <tr>\n",
       "      <th>1856</th>\n",
       "      <td>---</td>\n",
       "      <td>(-6.100681126633242, 106.92044533544411)</td>\n",
       "    </tr>\n",
       "  </tbody>\n",
       "</table>\n",
       "</div>"
      ],
      "text/plain": [
       "     address                                 coordinate\n",
       "0        ---   (-6.143128524262681, 106.91651876468018)\n",
       "2        ---    (-6.138028008918625, 106.9199501681558)\n",
       "5        ---     (-6.14024536916361, 106.9235926617797)\n",
       "9        ---   (-6.144156589875818, 106.91818344823734)\n",
       "12       ---    (-6.138818291205267, 106.9171197457654)\n",
       "13       ---   (-6.138856424436429, 106.92322849340151)\n",
       "14       ---  (-6.1382475416345175, 106.92174987614321)\n",
       "15       ---   (-6.141300362822412, 106.91631776326346)\n",
       "16       ---   (-6.142052106485477, 106.91897999620775)\n",
       "19       ---   (-6.139036613420874, 106.91978091343606)\n",
       "20       ---   (-6.140482007774161, 106.91836017560041)\n",
       "1856     ---   (-6.100681126633242, 106.92044533544411)"
      ]
     },
     "execution_count": 10,
     "metadata": {},
     "output_type": "execute_result"
    }
   ],
   "source": [
    "fix_add[fix_add['address'] == '---']"
   ]
  },
  {
   "cell_type": "code",
   "execution_count": 11,
   "id": "02499b4d",
   "metadata": {},
   "outputs": [],
   "source": [
    "fix_add = fix_add[fix_add['address'] != '---']"
   ]
  },
  {
   "cell_type": "code",
   "execution_count": 12,
   "id": "6f56687a",
   "metadata": {},
   "outputs": [],
   "source": [
    "fix_add['address'] = fix_add['address'].apply(lambda x: x.split('Alamat,')[1])"
   ]
  },
  {
   "cell_type": "code",
   "execution_count": 13,
   "id": "042a7b9f",
   "metadata": {},
   "outputs": [
    {
     "data": {
      "text/html": [
       "<div>\n",
       "<style scoped>\n",
       "    .dataframe tbody tr th:only-of-type {\n",
       "        vertical-align: middle;\n",
       "    }\n",
       "\n",
       "    .dataframe tbody tr th {\n",
       "        vertical-align: top;\n",
       "    }\n",
       "\n",
       "    .dataframe thead th {\n",
       "        text-align: right;\n",
       "    }\n",
       "</style>\n",
       "<table border=\"1\" class=\"dataframe\">\n",
       "  <thead>\n",
       "    <tr style=\"text-align: right;\">\n",
       "      <th></th>\n",
       "      <th>address</th>\n",
       "      <th>coordinate</th>\n",
       "    </tr>\n",
       "  </thead>\n",
       "  <tbody>\n",
       "    <tr>\n",
       "      <th>1</th>\n",
       "      <td>Jl. Mahoni II 1-17, RT.12/RW.5, Sukapura, Kec....</td>\n",
       "      <td>(-6.138687045534676, 106.91779793446403)</td>\n",
       "    </tr>\n",
       "    <tr>\n",
       "      <th>3</th>\n",
       "      <td>Jl. Panda Lestari II 1-3, RT.8/RW.9, Sukapura,...</td>\n",
       "      <td>(-6.143021205256485, 106.9165825639281)</td>\n",
       "    </tr>\n",
       "    <tr>\n",
       "      <th>4</th>\n",
       "      <td>Jakarta Utara, RT.5/RW.5, Sukapura, Kec. Cilin...</td>\n",
       "      <td>(-6.139193650845594, 106.9214912359129)</td>\n",
       "    </tr>\n",
       "    <tr>\n",
       "      <th>6</th>\n",
       "      <td>Jl. Anoa Lestari II 3-8, RT.3/RW.9, Sukapura, ...</td>\n",
       "      <td>(-6.141997460800832, 106.91759335813096)</td>\n",
       "    </tr>\n",
       "    <tr>\n",
       "      <th>7</th>\n",
       "      <td>Jakarta Utara, RT.1/RW.5, Sukapura, Kec. Cilin...</td>\n",
       "      <td>(-6.1375593133889925, 106.9207640635606)</td>\n",
       "    </tr>\n",
       "  </tbody>\n",
       "</table>\n",
       "</div>"
      ],
      "text/plain": [
       "                                             address  \\\n",
       "1  Jl. Mahoni II 1-17, RT.12/RW.5, Sukapura, Kec....   \n",
       "3  Jl. Panda Lestari II 1-3, RT.8/RW.9, Sukapura,...   \n",
       "4  Jakarta Utara, RT.5/RW.5, Sukapura, Kec. Cilin...   \n",
       "6  Jl. Anoa Lestari II 3-8, RT.3/RW.9, Sukapura, ...   \n",
       "7  Jakarta Utara, RT.1/RW.5, Sukapura, Kec. Cilin...   \n",
       "\n",
       "                                 coordinate  \n",
       "1  (-6.138687045534676, 106.91779793446403)  \n",
       "3   (-6.143021205256485, 106.9165825639281)  \n",
       "4   (-6.139193650845594, 106.9214912359129)  \n",
       "6  (-6.141997460800832, 106.91759335813096)  \n",
       "7  (-6.1375593133889925, 106.9207640635606)  "
      ]
     },
     "execution_count": 13,
     "metadata": {},
     "output_type": "execute_result"
    }
   ],
   "source": [
    "fix_add.head()"
   ]
  },
  {
   "cell_type": "code",
   "execution_count": 14,
   "id": "eaa054dd",
   "metadata": {},
   "outputs": [
    {
     "data": {
      "text/html": [
       "<div>\n",
       "<style scoped>\n",
       "    .dataframe tbody tr th:only-of-type {\n",
       "        vertical-align: middle;\n",
       "    }\n",
       "\n",
       "    .dataframe tbody tr th {\n",
       "        vertical-align: top;\n",
       "    }\n",
       "\n",
       "    .dataframe thead th {\n",
       "        text-align: right;\n",
       "    }\n",
       "</style>\n",
       "<table border=\"1\" class=\"dataframe\">\n",
       "  <thead>\n",
       "    <tr style=\"text-align: right;\">\n",
       "      <th></th>\n",
       "      <th>address</th>\n",
       "      <th>coordinate</th>\n",
       "    </tr>\n",
       "  </thead>\n",
       "  <tbody>\n",
       "    <tr>\n",
       "      <th>count</th>\n",
       "      <td>10988</td>\n",
       "      <td>10988</td>\n",
       "    </tr>\n",
       "    <tr>\n",
       "      <th>unique</th>\n",
       "      <td>5394</td>\n",
       "      <td>10988</td>\n",
       "    </tr>\n",
       "    <tr>\n",
       "      <th>top</th>\n",
       "      <td>Jakarta Utara, RW.1, Koja, Kec. Koja, Kota Jkt...</td>\n",
       "      <td>(-6.138687045534676, 106.91779793446403)</td>\n",
       "    </tr>\n",
       "    <tr>\n",
       "      <th>freq</th>\n",
       "      <td>256</td>\n",
       "      <td>1</td>\n",
       "    </tr>\n",
       "  </tbody>\n",
       "</table>\n",
       "</div>"
      ],
      "text/plain": [
       "                                                  address  \\\n",
       "count                                               10988   \n",
       "unique                                               5394   \n",
       "top     Jakarta Utara, RW.1, Koja, Kec. Koja, Kota Jkt...   \n",
       "freq                                                  256   \n",
       "\n",
       "                                      coordinate  \n",
       "count                                      10988  \n",
       "unique                                     10988  \n",
       "top     (-6.138687045534676, 106.91779793446403)  \n",
       "freq                                           1  "
      ]
     },
     "execution_count": 14,
     "metadata": {},
     "output_type": "execute_result"
    }
   ],
   "source": [
    "fix_add.describe()"
   ]
  },
  {
   "cell_type": "code",
   "execution_count": 17,
   "id": "a66462c9",
   "metadata": {},
   "outputs": [
    {
     "data": {
      "text/html": [
       "<div>\n",
       "<style scoped>\n",
       "    .dataframe tbody tr th:only-of-type {\n",
       "        vertical-align: middle;\n",
       "    }\n",
       "\n",
       "    .dataframe tbody tr th {\n",
       "        vertical-align: top;\n",
       "    }\n",
       "\n",
       "    .dataframe thead th {\n",
       "        text-align: right;\n",
       "    }\n",
       "</style>\n",
       "<table border=\"1\" class=\"dataframe\">\n",
       "  <thead>\n",
       "    <tr style=\"text-align: right;\">\n",
       "      <th></th>\n",
       "      <th>address</th>\n",
       "      <th>coordinate</th>\n",
       "    </tr>\n",
       "  </thead>\n",
       "  <tbody>\n",
       "    <tr>\n",
       "      <th>count</th>\n",
       "      <td>5394</td>\n",
       "      <td>5394</td>\n",
       "    </tr>\n",
       "    <tr>\n",
       "      <th>unique</th>\n",
       "      <td>5394</td>\n",
       "      <td>5394</td>\n",
       "    </tr>\n",
       "    <tr>\n",
       "      <th>top</th>\n",
       "      <td>Jl. Mahoni II 1-17, RT.12/RW.5, Sukapura, Kec....</td>\n",
       "      <td>(-6.138687045534676, 106.91779793446403)</td>\n",
       "    </tr>\n",
       "    <tr>\n",
       "      <th>freq</th>\n",
       "      <td>1</td>\n",
       "      <td>1</td>\n",
       "    </tr>\n",
       "  </tbody>\n",
       "</table>\n",
       "</div>"
      ],
      "text/plain": [
       "                                                  address  \\\n",
       "count                                                5394   \n",
       "unique                                               5394   \n",
       "top     Jl. Mahoni II 1-17, RT.12/RW.5, Sukapura, Kec....   \n",
       "freq                                                    1   \n",
       "\n",
       "                                      coordinate  \n",
       "count                                       5394  \n",
       "unique                                      5394  \n",
       "top     (-6.138687045534676, 106.91779793446403)  \n",
       "freq                                           1  "
      ]
     },
     "execution_count": 17,
     "metadata": {},
     "output_type": "execute_result"
    }
   ],
   "source": [
    "fix_add.drop_duplicates(subset='address').describe()"
   ]
  },
  {
   "cell_type": "code",
   "execution_count": 16,
   "id": "bacfd174",
   "metadata": {},
   "outputs": [
    {
     "data": {
      "text/html": [
       "<div>\n",
       "<style scoped>\n",
       "    .dataframe tbody tr th:only-of-type {\n",
       "        vertical-align: middle;\n",
       "    }\n",
       "\n",
       "    .dataframe tbody tr th {\n",
       "        vertical-align: top;\n",
       "    }\n",
       "\n",
       "    .dataframe thead th {\n",
       "        text-align: right;\n",
       "    }\n",
       "</style>\n",
       "<table border=\"1\" class=\"dataframe\">\n",
       "  <thead>\n",
       "    <tr style=\"text-align: right;\">\n",
       "      <th></th>\n",
       "      <th>address</th>\n",
       "      <th>coordinate</th>\n",
       "    </tr>\n",
       "  </thead>\n",
       "  <tbody>\n",
       "    <tr>\n",
       "      <th>count</th>\n",
       "      <td>3632</td>\n",
       "      <td>3632</td>\n",
       "    </tr>\n",
       "    <tr>\n",
       "      <th>unique</th>\n",
       "      <td>3632</td>\n",
       "      <td>3632</td>\n",
       "    </tr>\n",
       "    <tr>\n",
       "      <th>top</th>\n",
       "      <td>Jakarta Utara, RT.1/RW.5, Sukapura, Kec. Cilin...</td>\n",
       "      <td>(-6.1375593133889925, 106.9207640635606)</td>\n",
       "    </tr>\n",
       "    <tr>\n",
       "      <th>freq</th>\n",
       "      <td>1</td>\n",
       "      <td>1</td>\n",
       "    </tr>\n",
       "  </tbody>\n",
       "</table>\n",
       "</div>"
      ],
      "text/plain": [
       "                                                  address  \\\n",
       "count                                                3632   \n",
       "unique                                               3632   \n",
       "top     Jakarta Utara, RT.1/RW.5, Sukapura, Kec. Cilin...   \n",
       "freq                                                    1   \n",
       "\n",
       "                                      coordinate  \n",
       "count                                       3632  \n",
       "unique                                      3632  \n",
       "top     (-6.1375593133889925, 106.9207640635606)  \n",
       "freq                                           1  "
      ]
     },
     "execution_count": 16,
     "metadata": {},
     "output_type": "execute_result"
    }
   ],
   "source": [
    "fix_add.drop_duplicates(subset='address',keep=False).describe()"
   ]
  },
  {
   "cell_type": "code",
   "execution_count": 18,
   "id": "e519013d",
   "metadata": {},
   "outputs": [],
   "source": [
    "fix_al = fix_add.drop_duplicates(subset='address')"
   ]
  },
  {
   "cell_type": "code",
   "execution_count": 28,
   "id": "1669677d",
   "metadata": {},
   "outputs": [
    {
     "data": {
      "text/html": [
       "<div>\n",
       "<style scoped>\n",
       "    .dataframe tbody tr th:only-of-type {\n",
       "        vertical-align: middle;\n",
       "    }\n",
       "\n",
       "    .dataframe tbody tr th {\n",
       "        vertical-align: top;\n",
       "    }\n",
       "\n",
       "    .dataframe thead th {\n",
       "        text-align: right;\n",
       "    }\n",
       "</style>\n",
       "<table border=\"1\" class=\"dataframe\">\n",
       "  <thead>\n",
       "    <tr style=\"text-align: right;\">\n",
       "      <th></th>\n",
       "      <th>address</th>\n",
       "      <th>coordinate</th>\n",
       "    </tr>\n",
       "  </thead>\n",
       "  <tbody>\n",
       "    <tr>\n",
       "      <th>1</th>\n",
       "      <td>Jl. Mahoni II 1-17, RT.12/RW.5, Sukapura, Kec....</td>\n",
       "      <td>(-6.138687045534676, 106.91779793446403)</td>\n",
       "    </tr>\n",
       "    <tr>\n",
       "      <th>3</th>\n",
       "      <td>Jl. Panda Lestari II 1-3, RT.8/RW.9, Sukapura,...</td>\n",
       "      <td>(-6.143021205256485, 106.9165825639281)</td>\n",
       "    </tr>\n",
       "    <tr>\n",
       "      <th>4</th>\n",
       "      <td>Jakarta Utara, RT.5/RW.5, Sukapura, Kec. Cilin...</td>\n",
       "      <td>(-6.139193650845594, 106.9214912359129)</td>\n",
       "    </tr>\n",
       "    <tr>\n",
       "      <th>6</th>\n",
       "      <td>Jl. Anoa Lestari II 3-8, RT.3/RW.9, Sukapura, ...</td>\n",
       "      <td>(-6.141997460800832, 106.91759335813096)</td>\n",
       "    </tr>\n",
       "    <tr>\n",
       "      <th>7</th>\n",
       "      <td>Jakarta Utara, RT.1/RW.5, Sukapura, Kec. Cilin...</td>\n",
       "      <td>(-6.1375593133889925, 106.9207640635606)</td>\n",
       "    </tr>\n",
       "  </tbody>\n",
       "</table>\n",
       "</div>"
      ],
      "text/plain": [
       "                                             address  \\\n",
       "1  Jl. Mahoni II 1-17, RT.12/RW.5, Sukapura, Kec....   \n",
       "3  Jl. Panda Lestari II 1-3, RT.8/RW.9, Sukapura,...   \n",
       "4  Jakarta Utara, RT.5/RW.5, Sukapura, Kec. Cilin...   \n",
       "6  Jl. Anoa Lestari II 3-8, RT.3/RW.9, Sukapura, ...   \n",
       "7  Jakarta Utara, RT.1/RW.5, Sukapura, Kec. Cilin...   \n",
       "\n",
       "                                 coordinate  \n",
       "1  (-6.138687045534676, 106.91779793446403)  \n",
       "3   (-6.143021205256485, 106.9165825639281)  \n",
       "4   (-6.139193650845594, 106.9214912359129)  \n",
       "6  (-6.141997460800832, 106.91759335813096)  \n",
       "7  (-6.1375593133889925, 106.9207640635606)  "
      ]
     },
     "execution_count": 28,
     "metadata": {},
     "output_type": "execute_result"
    }
   ],
   "source": [
    "fix_al.head()"
   ]
  },
  {
   "cell_type": "markdown",
   "id": "ae845736",
   "metadata": {},
   "source": [
    "# Joining the DataFrame into ZP Polygon"
   ]
  },
  {
   "cell_type": "code",
   "execution_count": 59,
   "id": "30ccc5e6",
   "metadata": {},
   "outputs": [
    {
     "data": {
      "text/plain": [
       "(-6.138687045534676, 106.91779793446403)"
      ]
     },
     "execution_count": 59,
     "metadata": {},
     "output_type": "execute_result"
    }
   ],
   "source": [
    "no_string(fix_al['coordinate'].iloc[0])"
   ]
  },
  {
   "cell_type": "code",
   "execution_count": 30,
   "id": "dbad2a98",
   "metadata": {},
   "outputs": [],
   "source": [
    "import geopandas as gpd\n",
    "import string"
   ]
  },
  {
   "cell_type": "code",
   "execution_count": 58,
   "id": "cafdd0b4",
   "metadata": {},
   "outputs": [],
   "source": [
    "def no_string(text):\n",
    "    word = [char for char in text if char not in ['(',')',',']]\n",
    "    word = ''.join(word)\n",
    "    word = word.split()\n",
    "    return tuple([float(word[0]), float(word[1])])"
   ]
  },
  {
   "cell_type": "code",
   "execution_count": 61,
   "id": "09b150f0",
   "metadata": {
    "scrolled": true
   },
   "outputs": [
    {
     "name": "stderr",
     "output_type": "stream",
     "text": [
      "C:\\Users\\renoi\\AppData\\Local\\Temp/ipykernel_18300/3986222803.py:1: SettingWithCopyWarning: \n",
      "A value is trying to be set on a copy of a slice from a DataFrame.\n",
      "Try using .loc[row_indexer,col_indexer] = value instead\n",
      "\n",
      "See the caveats in the documentation: https://pandas.pydata.org/pandas-docs/stable/user_guide/indexing.html#returning-a-view-versus-a-copy\n",
      "  fix_al['coordinate'] = fix_al['coordinate'].apply(no_string)\n"
     ]
    }
   ],
   "source": [
    "fix_al['coordinate'] = fix_al['coordinate'].apply(no_string)"
   ]
  },
  {
   "cell_type": "code",
   "execution_count": 72,
   "id": "82d12e8b",
   "metadata": {},
   "outputs": [
    {
     "name": "stdout",
     "output_type": "stream",
     "text": [
      "<class 'pandas.core.frame.DataFrame'>\n",
      "Int64Index: 5394 entries, 1 to 5499\n",
      "Data columns (total 2 columns):\n",
      " #   Column      Non-Null Count  Dtype \n",
      "---  ------      --------------  ----- \n",
      " 0   address     5394 non-null   object\n",
      " 1   coordinate  5394 non-null   object\n",
      "dtypes: object(2)\n",
      "memory usage: 255.5+ KB\n"
     ]
    }
   ],
   "source": [
    "fix_al.info()"
   ]
  },
  {
   "cell_type": "code",
   "execution_count": 78,
   "id": "2624006e",
   "metadata": {},
   "outputs": [
    {
     "name": "stderr",
     "output_type": "stream",
     "text": [
      "C:\\Users\\renoi\\AppData\\Local\\Temp/ipykernel_18300/2012975723.py:1: SettingWithCopyWarning: \n",
      "A value is trying to be set on a copy of a slice from a DataFrame.\n",
      "Try using .loc[row_indexer,col_indexer] = value instead\n",
      "\n",
      "See the caveats in the documentation: https://pandas.pydata.org/pandas-docs/stable/user_guide/indexing.html#returning-a-view-versus-a-copy\n",
      "  fix_al['x'] = [x[0] for x in fix_al['coordinate']]\n",
      "C:\\Users\\renoi\\AppData\\Local\\Temp/ipykernel_18300/2012975723.py:2: SettingWithCopyWarning: \n",
      "A value is trying to be set on a copy of a slice from a DataFrame.\n",
      "Try using .loc[row_indexer,col_indexer] = value instead\n",
      "\n",
      "See the caveats in the documentation: https://pandas.pydata.org/pandas-docs/stable/user_guide/indexing.html#returning-a-view-versus-a-copy\n",
      "  fix_al['y'] = [x[1] for x in fix_al['coordinate']]\n"
     ]
    }
   ],
   "source": [
    "fix_al['x'] = [x[0] for x in fix_al['coordinate']]\n",
    "fix_al['y'] = [x[1] for x in fix_al['coordinate']]"
   ]
  },
  {
   "cell_type": "code",
   "execution_count": 115,
   "id": "fb226b78",
   "metadata": {},
   "outputs": [],
   "source": [
    "gdf_al = gpd.GeoDataFrame(fix_al,geometry=gpd.points_from_xy(fix_al.y,fix_al.x))"
   ]
  },
  {
   "cell_type": "code",
   "execution_count": 86,
   "id": "2913136d",
   "metadata": {},
   "outputs": [],
   "source": [
    "gdf_al.to_file('Sample Address.geojson',driver='GeoJSON')"
   ]
  },
  {
   "cell_type": "code",
   "execution_count": 116,
   "id": "caf2b404",
   "metadata": {},
   "outputs": [],
   "source": [
    "koja = gpd.GeoDataFrame.from_file(\"Zona Pengawasan Koja.geojson\")"
   ]
  },
  {
   "cell_type": "code",
   "execution_count": 119,
   "id": "72cbf88c",
   "metadata": {},
   "outputs": [],
   "source": [
    "gdf_fix = gdf_al.sjoin(koja)"
   ]
  },
  {
   "cell_type": "code",
   "execution_count": 117,
   "id": "758108ea",
   "metadata": {},
   "outputs": [],
   "source": [
    "gdf_al = gdf_al.set_crs(epsg=4326)"
   ]
  },
  {
   "cell_type": "code",
   "execution_count": 132,
   "id": "7922a5ed",
   "metadata": {},
   "outputs": [],
   "source": [
    "gdf_fix = gdf_fix[['address','geometry','Zona']]"
   ]
  },
  {
   "cell_type": "code",
   "execution_count": 133,
   "id": "6588daee",
   "metadata": {},
   "outputs": [],
   "source": [
    "gdf_fix.to_file('Sample Address Fix.geojson',driver='GeoJSON')"
   ]
  },
  {
   "cell_type": "code",
   "execution_count": null,
   "id": "2bd7bae8",
   "metadata": {},
   "outputs": [],
   "source": []
  }
 ],
 "metadata": {
  "kernelspec": {
   "display_name": "Python 3 (ipykernel)",
   "language": "python",
   "name": "python3"
  },
  "language_info": {
   "codemirror_mode": {
    "name": "ipython",
    "version": 3
   },
   "file_extension": ".py",
   "mimetype": "text/x-python",
   "name": "python",
   "nbconvert_exporter": "python",
   "pygments_lexer": "ipython3",
   "version": "3.9.7"
  }
 },
 "nbformat": 4,
 "nbformat_minor": 5
}
