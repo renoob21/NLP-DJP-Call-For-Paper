{
 "cells": [
  {
   "cell_type": "code",
   "execution_count": 1,
   "id": "037ab385",
   "metadata": {},
   "outputs": [],
   "source": [
    "import pandas as pd\n",
    "import geopandas as gpd"
   ]
  },
  {
   "cell_type": "markdown",
   "id": "3bea0ea7",
   "metadata": {},
   "source": [
    "# Opening the Data"
   ]
  },
  {
   "cell_type": "code",
   "execution_count": 2,
   "id": "7ace01f6",
   "metadata": {},
   "outputs": [],
   "source": [
    "sample_address = gpd.GeoDataFrame.from_file('Sample Address Fix.geojson')"
   ]
  },
  {
   "cell_type": "code",
   "execution_count": 3,
   "id": "884770ad",
   "metadata": {},
   "outputs": [
    {
     "data": {
      "text/html": [
       "<div>\n",
       "<style scoped>\n",
       "    .dataframe tbody tr th:only-of-type {\n",
       "        vertical-align: middle;\n",
       "    }\n",
       "\n",
       "    .dataframe tbody tr th {\n",
       "        vertical-align: top;\n",
       "    }\n",
       "\n",
       "    .dataframe thead th {\n",
       "        text-align: right;\n",
       "    }\n",
       "</style>\n",
       "<table border=\"1\" class=\"dataframe\">\n",
       "  <thead>\n",
       "    <tr style=\"text-align: right;\">\n",
       "      <th></th>\n",
       "      <th>address</th>\n",
       "      <th>Zona</th>\n",
       "      <th>geometry</th>\n",
       "    </tr>\n",
       "  </thead>\n",
       "  <tbody>\n",
       "    <tr>\n",
       "      <th>0</th>\n",
       "      <td>Jl. Mahoni II 1-17, RT.12/RW.5, Sukapura, Kec....</td>\n",
       "      <td>1</td>\n",
       "      <td>POINT (106.91780 -6.13869)</td>\n",
       "    </tr>\n",
       "    <tr>\n",
       "      <th>1</th>\n",
       "      <td>Jl. Panda Lestari II 1-3, RT.8/RW.9, Sukapura,...</td>\n",
       "      <td>1</td>\n",
       "      <td>POINT (106.91658 -6.14302)</td>\n",
       "    </tr>\n",
       "    <tr>\n",
       "      <th>2</th>\n",
       "      <td>Jakarta Utara, RT.5/RW.5, Sukapura, Kec. Cilin...</td>\n",
       "      <td>1</td>\n",
       "      <td>POINT (106.92149 -6.13919)</td>\n",
       "    </tr>\n",
       "    <tr>\n",
       "      <th>3</th>\n",
       "      <td>Jl. Anoa Lestari II 3-8, RT.3/RW.9, Sukapura, ...</td>\n",
       "      <td>1</td>\n",
       "      <td>POINT (106.91759 -6.14200)</td>\n",
       "    </tr>\n",
       "    <tr>\n",
       "      <th>4</th>\n",
       "      <td>Jakarta Utara, RT.1/RW.5, Sukapura, Kec. Cilin...</td>\n",
       "      <td>1</td>\n",
       "      <td>POINT (106.92076 -6.13756)</td>\n",
       "    </tr>\n",
       "  </tbody>\n",
       "</table>\n",
       "</div>"
      ],
      "text/plain": [
       "                                             address  Zona  \\\n",
       "0  Jl. Mahoni II 1-17, RT.12/RW.5, Sukapura, Kec....     1   \n",
       "1  Jl. Panda Lestari II 1-3, RT.8/RW.9, Sukapura,...     1   \n",
       "2  Jakarta Utara, RT.5/RW.5, Sukapura, Kec. Cilin...     1   \n",
       "3  Jl. Anoa Lestari II 3-8, RT.3/RW.9, Sukapura, ...     1   \n",
       "4  Jakarta Utara, RT.1/RW.5, Sukapura, Kec. Cilin...     1   \n",
       "\n",
       "                     geometry  \n",
       "0  POINT (106.91780 -6.13869)  \n",
       "1  POINT (106.91658 -6.14302)  \n",
       "2  POINT (106.92149 -6.13919)  \n",
       "3  POINT (106.91759 -6.14200)  \n",
       "4  POINT (106.92076 -6.13756)  "
      ]
     },
     "execution_count": 3,
     "metadata": {},
     "output_type": "execute_result"
    }
   ],
   "source": [
    "sample_address.head()"
   ]
  },
  {
   "cell_type": "code",
   "execution_count": 4,
   "id": "c9430631",
   "metadata": {},
   "outputs": [],
   "source": [
    "sample_address['Label'] = sample_address['Zona'].apply(lambda x: 'ZP '+str(x))"
   ]
  },
  {
   "cell_type": "code",
   "execution_count": 5,
   "id": "f163691a",
   "metadata": {},
   "outputs": [
    {
     "data": {
      "text/html": [
       "<div>\n",
       "<style scoped>\n",
       "    .dataframe tbody tr th:only-of-type {\n",
       "        vertical-align: middle;\n",
       "    }\n",
       "\n",
       "    .dataframe tbody tr th {\n",
       "        vertical-align: top;\n",
       "    }\n",
       "\n",
       "    .dataframe thead th {\n",
       "        text-align: right;\n",
       "    }\n",
       "</style>\n",
       "<table border=\"1\" class=\"dataframe\">\n",
       "  <thead>\n",
       "    <tr style=\"text-align: right;\">\n",
       "      <th></th>\n",
       "      <th>address</th>\n",
       "      <th>Zona</th>\n",
       "      <th>geometry</th>\n",
       "      <th>Label</th>\n",
       "    </tr>\n",
       "  </thead>\n",
       "  <tbody>\n",
       "    <tr>\n",
       "      <th>0</th>\n",
       "      <td>Jl. Mahoni II 1-17, RT.12/RW.5, Sukapura, Kec....</td>\n",
       "      <td>1</td>\n",
       "      <td>POINT (106.91780 -6.13869)</td>\n",
       "      <td>ZP 1</td>\n",
       "    </tr>\n",
       "    <tr>\n",
       "      <th>1</th>\n",
       "      <td>Jl. Panda Lestari II 1-3, RT.8/RW.9, Sukapura,...</td>\n",
       "      <td>1</td>\n",
       "      <td>POINT (106.91658 -6.14302)</td>\n",
       "      <td>ZP 1</td>\n",
       "    </tr>\n",
       "    <tr>\n",
       "      <th>2</th>\n",
       "      <td>Jakarta Utara, RT.5/RW.5, Sukapura, Kec. Cilin...</td>\n",
       "      <td>1</td>\n",
       "      <td>POINT (106.92149 -6.13919)</td>\n",
       "      <td>ZP 1</td>\n",
       "    </tr>\n",
       "    <tr>\n",
       "      <th>3</th>\n",
       "      <td>Jl. Anoa Lestari II 3-8, RT.3/RW.9, Sukapura, ...</td>\n",
       "      <td>1</td>\n",
       "      <td>POINT (106.91759 -6.14200)</td>\n",
       "      <td>ZP 1</td>\n",
       "    </tr>\n",
       "    <tr>\n",
       "      <th>4</th>\n",
       "      <td>Jakarta Utara, RT.1/RW.5, Sukapura, Kec. Cilin...</td>\n",
       "      <td>1</td>\n",
       "      <td>POINT (106.92076 -6.13756)</td>\n",
       "      <td>ZP 1</td>\n",
       "    </tr>\n",
       "    <tr>\n",
       "      <th>5</th>\n",
       "      <td>Jl. Panda Lestari I 10-16, RT.8/RW.9, Sukapura...</td>\n",
       "      <td>1</td>\n",
       "      <td>POINT (106.91754 -6.14299)</td>\n",
       "      <td>ZP 1</td>\n",
       "    </tr>\n",
       "    <tr>\n",
       "      <th>6</th>\n",
       "      <td>Jakarta Utara, Sukapura, Kec. Cilincing, Kota ...</td>\n",
       "      <td>1</td>\n",
       "      <td>POINT (106.92072 -6.13869)</td>\n",
       "      <td>ZP 1</td>\n",
       "    </tr>\n",
       "    <tr>\n",
       "      <th>7</th>\n",
       "      <td>Jl. Anoa Lestari I 18, RT.2/RW.9, Sukapura, Ke...</td>\n",
       "      <td>1</td>\n",
       "      <td>POINT (106.91757 -6.14226)</td>\n",
       "      <td>ZP 1</td>\n",
       "    </tr>\n",
       "    <tr>\n",
       "      <th>8</th>\n",
       "      <td>Jl. Sukapura No.55, RT.3/RW.5, Sukapura, Kec. ...</td>\n",
       "      <td>1</td>\n",
       "      <td>POINT (106.92283 -6.13773)</td>\n",
       "      <td>ZP 1</td>\n",
       "    </tr>\n",
       "    <tr>\n",
       "      <th>9</th>\n",
       "      <td>JL. Elang, Sukapura, Cilincing, Komplek Waliko...</td>\n",
       "      <td>1</td>\n",
       "      <td>POINT (106.91831 -6.13767)</td>\n",
       "      <td>ZP 1</td>\n",
       "    </tr>\n",
       "  </tbody>\n",
       "</table>\n",
       "</div>"
      ],
      "text/plain": [
       "                                             address  Zona  \\\n",
       "0  Jl. Mahoni II 1-17, RT.12/RW.5, Sukapura, Kec....     1   \n",
       "1  Jl. Panda Lestari II 1-3, RT.8/RW.9, Sukapura,...     1   \n",
       "2  Jakarta Utara, RT.5/RW.5, Sukapura, Kec. Cilin...     1   \n",
       "3  Jl. Anoa Lestari II 3-8, RT.3/RW.9, Sukapura, ...     1   \n",
       "4  Jakarta Utara, RT.1/RW.5, Sukapura, Kec. Cilin...     1   \n",
       "5  Jl. Panda Lestari I 10-16, RT.8/RW.9, Sukapura...     1   \n",
       "6  Jakarta Utara, Sukapura, Kec. Cilincing, Kota ...     1   \n",
       "7  Jl. Anoa Lestari I 18, RT.2/RW.9, Sukapura, Ke...     1   \n",
       "8  Jl. Sukapura No.55, RT.3/RW.5, Sukapura, Kec. ...     1   \n",
       "9  JL. Elang, Sukapura, Cilincing, Komplek Waliko...     1   \n",
       "\n",
       "                     geometry Label  \n",
       "0  POINT (106.91780 -6.13869)  ZP 1  \n",
       "1  POINT (106.91658 -6.14302)  ZP 1  \n",
       "2  POINT (106.92149 -6.13919)  ZP 1  \n",
       "3  POINT (106.91759 -6.14200)  ZP 1  \n",
       "4  POINT (106.92076 -6.13756)  ZP 1  \n",
       "5  POINT (106.91754 -6.14299)  ZP 1  \n",
       "6  POINT (106.92072 -6.13869)  ZP 1  \n",
       "7  POINT (106.91757 -6.14226)  ZP 1  \n",
       "8  POINT (106.92283 -6.13773)  ZP 1  \n",
       "9  POINT (106.91831 -6.13767)  ZP 1  "
      ]
     },
     "execution_count": 5,
     "metadata": {},
     "output_type": "execute_result"
    }
   ],
   "source": [
    "sample_address.head(10)"
   ]
  },
  {
   "cell_type": "code",
   "execution_count": 6,
   "id": "cfde64a2",
   "metadata": {},
   "outputs": [],
   "source": [
    "sample_address = sample_address[sample_address['Zona'] < 6]"
   ]
  },
  {
   "cell_type": "markdown",
   "id": "7de31b12",
   "metadata": {},
   "source": [
    "# Text Preprocessing"
   ]
  },
  {
   "cell_type": "markdown",
   "id": "cf243ff1",
   "metadata": {},
   "source": [
    "The problem with text data is, computers can't directly process it. Therefore, we need to transform the data into something that computers are capable of processing. The simplest method is using the Bag of Words approach. Bag of Words approach, it's done by converting text into a list containing the number of appearance of each words."
   ]
  },
  {
   "cell_type": "markdown",
   "id": "d341852b",
   "metadata": {},
   "source": [
    "### 1. Tokenizing"
   ]
  },
  {
   "cell_type": "markdown",
   "id": "48a59bec",
   "metadata": {},
   "source": [
    "First we need to 'tokenize' the text. Tokenizing is a process of converting a document or a text into a list of words in the text. Let's create a function to do that."
   ]
  },
  {
   "cell_type": "code",
   "execution_count": 10,
   "id": "e8ecec0d",
   "metadata": {},
   "outputs": [],
   "source": [
    "import string"
   ]
  },
  {
   "cell_type": "code",
   "execution_count": 9,
   "id": "d14aec6d",
   "metadata": {},
   "outputs": [],
   "source": [
    "def text_process(text):\n",
    "    cleantxt = [char for char in text if char not in string.punctuation]\n",
    "    cleantxt =  \"\".join(cleantxt)\n",
    "    return [word for word in cleantxt.split()]"
   ]
  },
  {
   "cell_type": "markdown",
   "id": "d11f3b4b",
   "metadata": {},
   "source": [
    "This function split each word, and remove all the punctuations."
   ]
  },
  {
   "cell_type": "code",
   "execution_count": 11,
   "id": "57c8b4ec",
   "metadata": {},
   "outputs": [
    {
     "data": {
      "text/plain": [
       "['Nama', 'saya', 'budi', 'saya', 'suka', 'bermain', 'bola']"
      ]
     },
     "execution_count": 11,
     "metadata": {},
     "output_type": "execute_result"
    }
   ],
   "source": [
    "text_process('Nama saya budi, saya suka bermain bola!')"
   ]
  },
  {
   "cell_type": "markdown",
   "id": "a48e58df",
   "metadata": {},
   "source": [
    "Now, let's try applying the tokenizer function into our data"
   ]
  },
  {
   "cell_type": "markdown",
   "id": "5ee88365",
   "metadata": {},
   "source": [
    "##### Before:"
   ]
  },
  {
   "cell_type": "code",
   "execution_count": 12,
   "id": "5e0db652",
   "metadata": {},
   "outputs": [
    {
     "data": {
      "text/plain": [
       "0    Jl. Mahoni II 1-17, RT.12/RW.5, Sukapura, Kec....\n",
       "1    Jl. Panda Lestari II 1-3, RT.8/RW.9, Sukapura,...\n",
       "2    Jakarta Utara, RT.5/RW.5, Sukapura, Kec. Cilin...\n",
       "3    Jl. Anoa Lestari II 3-8, RT.3/RW.9, Sukapura, ...\n",
       "4    Jakarta Utara, RT.1/RW.5, Sukapura, Kec. Cilin...\n",
       "Name: address, dtype: object"
      ]
     },
     "execution_count": 12,
     "metadata": {},
     "output_type": "execute_result"
    }
   ],
   "source": [
    "sample_address['address'].head(5)"
   ]
  },
  {
   "cell_type": "markdown",
   "id": "9ae525b1",
   "metadata": {},
   "source": [
    "##### After:"
   ]
  },
  {
   "cell_type": "code",
   "execution_count": 13,
   "id": "24c1f265",
   "metadata": {},
   "outputs": [
    {
     "data": {
      "text/plain": [
       "0    [Jl, Mahoni, II, 117, RT12RW5, Sukapura, Kec, ...\n",
       "1    [Jl, Panda, Lestari, II, 13, RT8RW9, Sukapura,...\n",
       "2    [Jakarta, Utara, RT5RW5, Sukapura, Kec, Cilinc...\n",
       "3    [Jl, Anoa, Lestari, II, 38, RT3RW9, Sukapura, ...\n",
       "4    [Jakarta, Utara, RT1RW5, Sukapura, Kec, Cilinc...\n",
       "Name: address, dtype: object"
      ]
     },
     "execution_count": 13,
     "metadata": {},
     "output_type": "execute_result"
    }
   ],
   "source": [
    "sample_address['address'].head(5).apply(text_process)"
   ]
  },
  {
   "cell_type": "markdown",
   "id": "12f67050",
   "metadata": {},
   "source": [
    "### 2. Vectorization"
   ]
  },
  {
   "cell_type": "markdown",
   "id": "dc946044",
   "metadata": {},
   "source": [
    "After tokenizing the text, we will put the text into a vector containing each word count. All the text then will be stored in a data called _Sparse Matrix_.\n",
    "\n",
    "For example:\n",
    "\n",
    "<table border = “1“>\n",
    "<tr>\n",
    "<th></th> <th>Address 1</th> <th>Address 2</th> <th>...</th> <th>Address N</th> \n",
    "</tr>\n",
    "<tr>\n",
    "<td><b>Word 1 Count</b></td><td>0</td><td>1</td><td>...</td><td>0</td>\n",
    "</tr>\n",
    "<tr>\n",
    "<td><b>Word 2 Count</b></td><td>0</td><td>0</td><td>...</td><td>0</td>\n",
    "</tr>\n",
    "<tr>\n",
    "<td><b>...</b></td> <td>1</td><td>2</td><td>...</td><td>0</td>\n",
    "</tr>\n",
    "<tr>\n",
    "<td><b>Word N Count</b></td> <td>0</td><td>1</td><td>...</td><td>1</td>\n",
    "</tr>\n",
    "</table>\n",
    "\n",
    "\n",
    "\n",
    "To do that, we will need to use a module from Scikit-Learn called CountVectorizer"
   ]
  },
  {
   "cell_type": "markdown",
   "id": "eb13f86f",
   "metadata": {},
   "source": [
    "##### Import CountVectorizer and Create a CountVectorizer Object\n",
    "\n",
    "Use the _text_process_ function that we created earlier as analyzer"
   ]
  },
  {
   "cell_type": "code",
   "execution_count": 14,
   "id": "79c69bef",
   "metadata": {},
   "outputs": [],
   "source": [
    "from sklearn.feature_extraction.text import CountVectorizer"
   ]
  },
  {
   "cell_type": "code",
   "execution_count": 15,
   "id": "69992a59",
   "metadata": {},
   "outputs": [],
   "source": [
    "bow_transformer = CountVectorizer(analyzer=text_process).fit(sample_address['address'])"
   ]
  },
  {
   "cell_type": "code",
   "execution_count": 16,
   "id": "16cfcb2c",
   "metadata": {},
   "outputs": [],
   "source": [
    "bow = bow_transformer.transform(sample_address['address'])"
   ]
  },
  {
   "cell_type": "code",
   "execution_count": 17,
   "id": "98820f74",
   "metadata": {},
   "outputs": [
    {
     "name": "stdout",
     "output_type": "stream",
     "text": [
      "(573, 665)\n"
     ]
    }
   ],
   "source": [
    "print(bow.shape)"
   ]
  },
  {
   "cell_type": "markdown",
   "id": "2b035e27",
   "metadata": {},
   "source": [
    "# Training the Model\n",
    "\n",
    "We will use Multinomial Naive Bayes classifier from Scikit Learn module to create a machine learning object and train the model"
   ]
  },
  {
   "cell_type": "code",
   "execution_count": 18,
   "id": "8d2a5595",
   "metadata": {},
   "outputs": [],
   "source": [
    "from sklearn.naive_bayes import MultinomialNB"
   ]
  },
  {
   "cell_type": "code",
   "execution_count": 19,
   "id": "ea5ef8b8",
   "metadata": {},
   "outputs": [],
   "source": [
    "zp_model = MultinomialNB()"
   ]
  },
  {
   "cell_type": "code",
   "execution_count": 20,
   "id": "67b1118e",
   "metadata": {
    "scrolled": true
   },
   "outputs": [
    {
     "data": {
      "text/plain": [
       "MultinomialNB()"
      ]
     },
     "execution_count": 20,
     "metadata": {},
     "output_type": "execute_result"
    }
   ],
   "source": [
    "zp_model.fit(bow,sample_address['Label'])"
   ]
  },
  {
   "cell_type": "markdown",
   "id": "7e15df5b",
   "metadata": {},
   "source": [
    "# Creating Data Pipeline"
   ]
  },
  {
   "cell_type": "markdown",
   "id": "fbc55de8",
   "metadata": {},
   "source": [
    "To get the Model reusable, and we don't need to reprocess each text we use in the model, we will create a data Pipeline consisting of the Steps we've done."
   ]
  },
  {
   "cell_type": "code",
   "execution_count": 21,
   "id": "ab9b536b",
   "metadata": {},
   "outputs": [],
   "source": [
    "from sklearn.pipeline import Pipeline"
   ]
  },
  {
   "cell_type": "code",
   "execution_count": 22,
   "id": "29e5d4a3",
   "metadata": {},
   "outputs": [],
   "source": [
    "model_pipeline = Pipeline([('bow',CountVectorizer(analyzer=text_process)),\n",
    "                          ('classifier', MultinomialNB())])"
   ]
  },
  {
   "cell_type": "markdown",
   "id": "2eb974d8",
   "metadata": {},
   "source": [
    "# Train Test Split"
   ]
  },
  {
   "cell_type": "markdown",
   "id": "4c00b597",
   "metadata": {},
   "source": [
    "Let's split our data into train data and test data, consisting of 80% training data and 20% test Data"
   ]
  },
  {
   "cell_type": "code",
   "execution_count": 23,
   "id": "c52167a0",
   "metadata": {},
   "outputs": [],
   "source": [
    "from sklearn.model_selection import train_test_split"
   ]
  },
  {
   "cell_type": "code",
   "execution_count": 24,
   "id": "bdd21cf7",
   "metadata": {},
   "outputs": [
    {
     "data": {
      "text/html": [
       "<div>\n",
       "<style scoped>\n",
       "    .dataframe tbody tr th:only-of-type {\n",
       "        vertical-align: middle;\n",
       "    }\n",
       "\n",
       "    .dataframe tbody tr th {\n",
       "        vertical-align: top;\n",
       "    }\n",
       "\n",
       "    .dataframe thead th {\n",
       "        text-align: right;\n",
       "    }\n",
       "</style>\n",
       "<table border=\"1\" class=\"dataframe\">\n",
       "  <thead>\n",
       "    <tr style=\"text-align: right;\">\n",
       "      <th></th>\n",
       "      <th>address</th>\n",
       "      <th>Zona</th>\n",
       "      <th>geometry</th>\n",
       "      <th>Label</th>\n",
       "    </tr>\n",
       "  </thead>\n",
       "  <tbody>\n",
       "    <tr>\n",
       "      <th>0</th>\n",
       "      <td>Jl. Mahoni II 1-17, RT.12/RW.5, Sukapura, Kec....</td>\n",
       "      <td>1</td>\n",
       "      <td>POINT (106.91780 -6.13869)</td>\n",
       "      <td>ZP 1</td>\n",
       "    </tr>\n",
       "    <tr>\n",
       "      <th>1</th>\n",
       "      <td>Jl. Panda Lestari II 1-3, RT.8/RW.9, Sukapura,...</td>\n",
       "      <td>1</td>\n",
       "      <td>POINT (106.91658 -6.14302)</td>\n",
       "      <td>ZP 1</td>\n",
       "    </tr>\n",
       "    <tr>\n",
       "      <th>2</th>\n",
       "      <td>Jakarta Utara, RT.5/RW.5, Sukapura, Kec. Cilin...</td>\n",
       "      <td>1</td>\n",
       "      <td>POINT (106.92149 -6.13919)</td>\n",
       "      <td>ZP 1</td>\n",
       "    </tr>\n",
       "    <tr>\n",
       "      <th>3</th>\n",
       "      <td>Jl. Anoa Lestari II 3-8, RT.3/RW.9, Sukapura, ...</td>\n",
       "      <td>1</td>\n",
       "      <td>POINT (106.91759 -6.14200)</td>\n",
       "      <td>ZP 1</td>\n",
       "    </tr>\n",
       "    <tr>\n",
       "      <th>4</th>\n",
       "      <td>Jakarta Utara, RT.1/RW.5, Sukapura, Kec. Cilin...</td>\n",
       "      <td>1</td>\n",
       "      <td>POINT (106.92076 -6.13756)</td>\n",
       "      <td>ZP 1</td>\n",
       "    </tr>\n",
       "  </tbody>\n",
       "</table>\n",
       "</div>"
      ],
      "text/plain": [
       "                                             address  Zona  \\\n",
       "0  Jl. Mahoni II 1-17, RT.12/RW.5, Sukapura, Kec....     1   \n",
       "1  Jl. Panda Lestari II 1-3, RT.8/RW.9, Sukapura,...     1   \n",
       "2  Jakarta Utara, RT.5/RW.5, Sukapura, Kec. Cilin...     1   \n",
       "3  Jl. Anoa Lestari II 3-8, RT.3/RW.9, Sukapura, ...     1   \n",
       "4  Jakarta Utara, RT.1/RW.5, Sukapura, Kec. Cilin...     1   \n",
       "\n",
       "                     geometry Label  \n",
       "0  POINT (106.91780 -6.13869)  ZP 1  \n",
       "1  POINT (106.91658 -6.14302)  ZP 1  \n",
       "2  POINT (106.92149 -6.13919)  ZP 1  \n",
       "3  POINT (106.91759 -6.14200)  ZP 1  \n",
       "4  POINT (106.92076 -6.13756)  ZP 1  "
      ]
     },
     "execution_count": 24,
     "metadata": {},
     "output_type": "execute_result"
    }
   ],
   "source": [
    "sample_address.head()"
   ]
  },
  {
   "cell_type": "code",
   "execution_count": 25,
   "id": "cc4b6e80",
   "metadata": {},
   "outputs": [],
   "source": [
    "X = sample_address['address']\n",
    "y = sample_address['Label']"
   ]
  },
  {
   "cell_type": "code",
   "execution_count": 26,
   "id": "fc4e5a7e",
   "metadata": {},
   "outputs": [],
   "source": [
    "X_train, X_test, y_train, y_test = train_test_split(X, y, test_size=0.2, random_state=101)"
   ]
  },
  {
   "cell_type": "markdown",
   "id": "c889993f",
   "metadata": {},
   "source": [
    "# Fitting the Data into the Pipeline"
   ]
  },
  {
   "cell_type": "code",
   "execution_count": 27,
   "id": "b493ee61",
   "metadata": {},
   "outputs": [
    {
     "data": {
      "text/plain": [
       "Pipeline(steps=[('bow',\n",
       "                 CountVectorizer(analyzer=<function text_process at 0x000001C4E866E4C0>)),\n",
       "                ('classifier', MultinomialNB())])"
      ]
     },
     "execution_count": 27,
     "metadata": {},
     "output_type": "execute_result"
    }
   ],
   "source": [
    "model_pipeline.fit(X_train,y_train)"
   ]
  },
  {
   "cell_type": "code",
   "execution_count": 28,
   "id": "025f697b",
   "metadata": {},
   "outputs": [],
   "source": [
    "pred = model_pipeline.predict(X_test)"
   ]
  },
  {
   "cell_type": "markdown",
   "id": "dcfb5bf7",
   "metadata": {},
   "source": [
    "# Model Evaluation"
   ]
  },
  {
   "cell_type": "code",
   "execution_count": 29,
   "id": "e1cca2eb",
   "metadata": {},
   "outputs": [],
   "source": [
    "from sklearn.metrics import classification_report"
   ]
  },
  {
   "cell_type": "code",
   "execution_count": 30,
   "id": "6d49305c",
   "metadata": {
    "scrolled": true
   },
   "outputs": [
    {
     "name": "stdout",
     "output_type": "stream",
     "text": [
      "              precision    recall  f1-score   support\n",
      "\n",
      "        ZP 1       0.90      0.97      0.93        29\n",
      "        ZP 2       0.76      0.68      0.72        28\n",
      "        ZP 3       0.70      0.78      0.74         9\n",
      "        ZP 4       0.78      0.81      0.79        26\n",
      "        ZP 5       0.82      0.78      0.80        23\n",
      "\n",
      "    accuracy                           0.81       115\n",
      "   macro avg       0.79      0.80      0.80       115\n",
      "weighted avg       0.81      0.81      0.81       115\n",
      "\n"
     ]
    }
   ],
   "source": [
    "print(classification_report(y_test,pred))"
   ]
  },
  {
   "cell_type": "markdown",
   "id": "7489cf13",
   "metadata": {},
   "source": [
    "# Adjusting the Model"
   ]
  },
  {
   "cell_type": "markdown",
   "id": "eff9cb5f",
   "metadata": {},
   "source": [
    "### Using TF-IDF"
   ]
  },
  {
   "cell_type": "code",
   "execution_count": 31,
   "id": "bacc89b1",
   "metadata": {},
   "outputs": [],
   "source": [
    "from sklearn.feature_extraction.text import TfidfTransformer"
   ]
  },
  {
   "cell_type": "code",
   "execution_count": 32,
   "id": "e00774b3",
   "metadata": {},
   "outputs": [],
   "source": [
    "adj_model1 = Pipeline([('bow',CountVectorizer(analyzer=text_process)),\n",
    "                       ('tfidf',TfidfTransformer()),\n",
    "                       ('classifier', MultinomialNB())])"
   ]
  },
  {
   "cell_type": "code",
   "execution_count": 33,
   "id": "643d2405",
   "metadata": {},
   "outputs": [
    {
     "data": {
      "text/plain": [
       "Pipeline(steps=[('bow',\n",
       "                 CountVectorizer(analyzer=<function text_process at 0x000001C4E866E4C0>)),\n",
       "                ('tfidf', TfidfTransformer()),\n",
       "                ('classifier', MultinomialNB())])"
      ]
     },
     "execution_count": 33,
     "metadata": {},
     "output_type": "execute_result"
    }
   ],
   "source": [
    "adj_model1.fit(X_train,y_train)"
   ]
  },
  {
   "cell_type": "code",
   "execution_count": 34,
   "id": "3c03fe21",
   "metadata": {},
   "outputs": [],
   "source": [
    "pred_adj1 = adj_model1.predict(X_test)"
   ]
  },
  {
   "cell_type": "code",
   "execution_count": 35,
   "id": "129e8214",
   "metadata": {},
   "outputs": [
    {
     "name": "stdout",
     "output_type": "stream",
     "text": [
      "              precision    recall  f1-score   support\n",
      "\n",
      "        ZP 1       0.90      0.97      0.93        29\n",
      "        ZP 2       0.78      0.75      0.76        28\n",
      "        ZP 3       1.00      0.78      0.88         9\n",
      "        ZP 4       0.82      0.88      0.85        26\n",
      "        ZP 5       0.82      0.78      0.80        23\n",
      "\n",
      "    accuracy                           0.84       115\n",
      "   macro avg       0.86      0.83      0.84       115\n",
      "weighted avg       0.84      0.84      0.84       115\n",
      "\n"
     ]
    }
   ],
   "source": [
    "print(classification_report(y_test,pred_adj1))"
   ]
  },
  {
   "cell_type": "markdown",
   "id": "cb7c8808",
   "metadata": {},
   "source": [
    "### Adjusting Text Processor"
   ]
  },
  {
   "cell_type": "code",
   "execution_count": 36,
   "id": "45cef930",
   "metadata": {},
   "outputs": [],
   "source": [
    "def text_process1(text):\n",
    "    cleantxt = []\n",
    "    for char in text:\n",
    "        if char in ['/','-']:\n",
    "            cleantxt.append(' ')\n",
    "            continue\n",
    "        elif char in string.punctuation:\n",
    "            continue\n",
    "        else: cleantxt.append(char)\n",
    "    cleantxt =  \"\".join(cleantxt)\n",
    "    cleantxt = [word for word in cleantxt.split(',') if word.lower() != 'jakarta utara']\n",
    "    cleantxt =  \"\".join(cleantxt)\n",
    "    return [word for word in cleantxt.split() if word.lower() not in ('jalan','jl')]"
   ]
  },
  {
   "cell_type": "code",
   "execution_count": 37,
   "id": "caa1b037",
   "metadata": {},
   "outputs": [],
   "source": [
    "adj_model2 = Pipeline([('bow',CountVectorizer(analyzer=text_process1)),\n",
    "                       ('tfidf',TfidfTransformer()),\n",
    "                       ('classifier', MultinomialNB())])"
   ]
  },
  {
   "cell_type": "code",
   "execution_count": 38,
   "id": "35c7a2a4",
   "metadata": {},
   "outputs": [
    {
     "data": {
      "text/plain": [
       "Pipeline(steps=[('bow',\n",
       "                 CountVectorizer(analyzer=<function text_process1 at 0x000001C4E97681F0>)),\n",
       "                ('tfidf', TfidfTransformer()),\n",
       "                ('classifier', MultinomialNB())])"
      ]
     },
     "execution_count": 38,
     "metadata": {},
     "output_type": "execute_result"
    }
   ],
   "source": [
    "adj_model2.fit(X_train, y_train)"
   ]
  },
  {
   "cell_type": "code",
   "execution_count": 39,
   "id": "c6b8a460",
   "metadata": {},
   "outputs": [],
   "source": [
    "pred_adj2 = adj_model2.predict(X_test)"
   ]
  },
  {
   "cell_type": "code",
   "execution_count": 40,
   "id": "40c3ff2d",
   "metadata": {},
   "outputs": [
    {
     "name": "stdout",
     "output_type": "stream",
     "text": [
      "              precision    recall  f1-score   support\n",
      "\n",
      "        ZP 1       0.94      1.00      0.97        29\n",
      "        ZP 2       0.93      0.89      0.91        28\n",
      "        ZP 3       1.00      0.78      0.88         9\n",
      "        ZP 4       0.93      0.96      0.94        26\n",
      "        ZP 5       0.91      0.91      0.91        23\n",
      "\n",
      "    accuracy                           0.93       115\n",
      "   macro avg       0.94      0.91      0.92       115\n",
      "weighted avg       0.93      0.93      0.93       115\n",
      "\n"
     ]
    }
   ],
   "source": [
    "print(classification_report(y_test,pred_adj2))"
   ]
  },
  {
   "cell_type": "markdown",
   "id": "c3cec617",
   "metadata": {},
   "source": [
    "# Choosing Different Classifier"
   ]
  },
  {
   "cell_type": "markdown",
   "id": "1a49fa36",
   "metadata": {},
   "source": [
    "#### Using Random Forest"
   ]
  },
  {
   "cell_type": "code",
   "execution_count": 41,
   "id": "d2efa4c5",
   "metadata": {},
   "outputs": [],
   "source": [
    "from sklearn.ensemble import RandomForestClassifier"
   ]
  },
  {
   "cell_type": "code",
   "execution_count": 42,
   "id": "ff8a5ddd",
   "metadata": {},
   "outputs": [],
   "source": [
    "rf_model = Pipeline([('bow',CountVectorizer(analyzer=text_process1)),\n",
    "                       ('tfidf',TfidfTransformer()),\n",
    "                       ('classifier', RandomForestClassifier())])"
   ]
  },
  {
   "cell_type": "code",
   "execution_count": 43,
   "id": "b7bf9409",
   "metadata": {},
   "outputs": [
    {
     "data": {
      "text/plain": [
       "Pipeline(steps=[('bow',\n",
       "                 CountVectorizer(analyzer=<function text_process1 at 0x000001C4E97681F0>)),\n",
       "                ('tfidf', TfidfTransformer()),\n",
       "                ('classifier', RandomForestClassifier())])"
      ]
     },
     "execution_count": 43,
     "metadata": {},
     "output_type": "execute_result"
    }
   ],
   "source": [
    "rf_model.fit(X_train,y_train)"
   ]
  },
  {
   "cell_type": "code",
   "execution_count": 44,
   "id": "ea678905",
   "metadata": {},
   "outputs": [],
   "source": [
    "rf_pred = rf_model.predict(X_test)"
   ]
  },
  {
   "cell_type": "code",
   "execution_count": 45,
   "id": "a415fd92",
   "metadata": {},
   "outputs": [
    {
     "name": "stdout",
     "output_type": "stream",
     "text": [
      "              precision    recall  f1-score   support\n",
      "\n",
      "        ZP 1       0.94      1.00      0.97        29\n",
      "        ZP 2       0.82      0.82      0.82        28\n",
      "        ZP 3       0.71      0.56      0.63         9\n",
      "        ZP 4       0.92      0.88      0.90        26\n",
      "        ZP 5       0.88      0.91      0.89        23\n",
      "\n",
      "    accuracy                           0.88       115\n",
      "   macro avg       0.85      0.83      0.84       115\n",
      "weighted avg       0.87      0.88      0.88       115\n",
      "\n"
     ]
    }
   ],
   "source": [
    "print(classification_report(y_test,rf_pred))"
   ]
  },
  {
   "cell_type": "markdown",
   "id": "e17a498a",
   "metadata": {},
   "source": [
    "Random forest has significantly lower accuracy"
   ]
  },
  {
   "cell_type": "markdown",
   "id": "45dcd53d",
   "metadata": {},
   "source": [
    "#### Using _k_-Nearest Neighbor"
   ]
  },
  {
   "cell_type": "code",
   "execution_count": 46,
   "id": "6b523255",
   "metadata": {},
   "outputs": [],
   "source": [
    "from sklearn.neighbors import KNeighborsClassifier"
   ]
  },
  {
   "cell_type": "code",
   "execution_count": 47,
   "id": "1953e5a4",
   "metadata": {},
   "outputs": [],
   "source": [
    "knn_model = Pipeline([('bow',CountVectorizer(analyzer=text_process1)),\n",
    "                       ('tfidf',TfidfTransformer()),\n",
    "                       ('classifier', KNeighborsClassifier(n_neighbors=1))])"
   ]
  },
  {
   "cell_type": "code",
   "execution_count": 48,
   "id": "9cea42b3",
   "metadata": {},
   "outputs": [
    {
     "data": {
      "text/plain": [
       "Pipeline(steps=[('bow',\n",
       "                 CountVectorizer(analyzer=<function text_process1 at 0x000001C4E97681F0>)),\n",
       "                ('tfidf', TfidfTransformer()),\n",
       "                ('classifier', KNeighborsClassifier(n_neighbors=1))])"
      ]
     },
     "execution_count": 48,
     "metadata": {},
     "output_type": "execute_result"
    }
   ],
   "source": [
    "knn_model.fit(X_train,y_train)"
   ]
  },
  {
   "cell_type": "code",
   "execution_count": 49,
   "id": "90a576ec",
   "metadata": {},
   "outputs": [],
   "source": [
    "knn_pred = knn_model.predict(X_test)"
   ]
  },
  {
   "cell_type": "code",
   "execution_count": 50,
   "id": "3df56805",
   "metadata": {},
   "outputs": [
    {
     "name": "stdout",
     "output_type": "stream",
     "text": [
      "              precision    recall  f1-score   support\n",
      "\n",
      "        ZP 1       0.79      0.90      0.84        29\n",
      "        ZP 2       0.83      0.71      0.77        28\n",
      "        ZP 3       0.58      0.78      0.67         9\n",
      "        ZP 4       0.91      0.81      0.86        26\n",
      "        ZP 5       0.78      0.78      0.78        23\n",
      "\n",
      "    accuracy                           0.80       115\n",
      "   macro avg       0.78      0.80      0.78       115\n",
      "weighted avg       0.81      0.80      0.80       115\n",
      "\n"
     ]
    }
   ],
   "source": [
    "print(classification_report(y_test,knn_pred))"
   ]
  },
  {
   "cell_type": "markdown",
   "id": "d344e544",
   "metadata": {},
   "source": [
    "#### Choosing _k_ Value"
   ]
  },
  {
   "cell_type": "code",
   "execution_count": 51,
   "id": "5ecbb4ba",
   "metadata": {},
   "outputs": [],
   "source": [
    "import matplotlib.pyplot as plt\n",
    "import numpy as np\n",
    "%matplotlib inline"
   ]
  },
  {
   "cell_type": "code",
   "execution_count": 54,
   "id": "42e83be1",
   "metadata": {},
   "outputs": [],
   "source": [
    "error_rate = []\n",
    "\n",
    "for i in range(1,40):\n",
    "    \n",
    "    knn = Pipeline([('bow',CountVectorizer(analyzer=text_process1)),\n",
    "                       ('tfidf',TfidfTransformer()),\n",
    "                       ('classifier', KNeighborsClassifier(n_neighbors=i))])\n",
    "    knn.fit(X_train,y_train)\n",
    "    pred_i = knn.predict(X_test)\n",
    "    error_rate.append(np.mean(pred_i != y_test))"
   ]
  },
  {
   "cell_type": "code",
   "execution_count": 68,
   "id": "85b10d8b",
   "metadata": {},
   "outputs": [
    {
     "name": "stderr",
     "output_type": "stream",
     "text": [
      "C:\\Users\\renoi\\AppData\\Local\\Temp/ipykernel_17108/3148571669.py:7: MatplotlibDeprecationWarning: savefig() got unexpected keyword argument \"papertype\" which is no longer supported as of 3.3 and will become an error two minor releases later\n",
      "  plt.savefig('K-Value.jpg', dpi=None, facecolor='w', edgecolor='w',\n",
      "C:\\Users\\renoi\\AppData\\Local\\Temp/ipykernel_17108/3148571669.py:7: MatplotlibDeprecationWarning: savefig() got unexpected keyword argument \"frameon\" which is no longer supported as of 3.3 and will become an error two minor releases later\n",
      "  plt.savefig('K-Value.jpg', dpi=None, facecolor='w', edgecolor='w',\n",
      "C:\\Users\\renoi\\AppData\\Local\\Temp/ipykernel_17108/3148571669.py:7: MatplotlibDeprecationWarning: savefig() got unexpected keyword argument \"metadata\" which is no longer supported as of 3.3 and will become an error two minor releases later\n",
      "  plt.savefig('K-Value.jpg', dpi=None, facecolor='w', edgecolor='w',\n"
     ]
    },
    {
     "data": {
      "image/png": "[encoded data removed]",
      "text/plain": [
       "<Figure size 720x432 with 1 Axes>"
      ]
     },
     "metadata": {
      "needs_background": "light"
     },
     "output_type": "display_data"
    }
   ],
   "source": [
    "plt.figure(figsize=(10,6))\n",
    "plt.plot(range(1,40),error_rate,color='blue', linestyle='dashed', marker='o',\n",
    "         markerfacecolor='red', markersize=10)\n",
    "plt.title('Error Rate vs. K Value')\n",
    "plt.xlabel('K')\n",
    "plt.ylabel('Error Rate')\n",
    "plt.savefig('K-Value.jpg', dpi=None, facecolor='w', edgecolor='w',\n",
    "          orientation='landscape', papertype=None, format=None,\n",
    "          transparent=False, bbox_inches=None, pad_inches=0.1,\n",
    "          frameon=None, metadata=None)"
   ]
  },
  {
   "cell_type": "markdown",
   "id": "a83c4330",
   "metadata": {},
   "source": [
    "We can see that the error amount considered low around k amount of 10, we will take the value of k as 10"
   ]
  },
  {
   "cell_type": "code",
   "execution_count": 73,
   "id": "9606cb7c",
   "metadata": {},
   "outputs": [],
   "source": [
    "knn_model = Pipeline([('bow',CountVectorizer(analyzer=text_process1)),\n",
    "                       ('tfidf',TfidfTransformer()),\n",
    "                       ('classifier', KNeighborsClassifier(n_neighbors=10))])"
   ]
  },
  {
   "cell_type": "code",
   "execution_count": 74,
   "id": "cccbb4bd",
   "metadata": {},
   "outputs": [
    {
     "data": {
      "text/plain": [
       "Pipeline(steps=[('bow',\n",
       "                 CountVectorizer(analyzer=<function text_process1 at 0x000001C4E97681F0>)),\n",
       "                ('tfidf', TfidfTransformer()),\n",
       "                ('classifier', KNeighborsClassifier(n_neighbors=10))])"
      ]
     },
     "execution_count": 74,
     "metadata": {},
     "output_type": "execute_result"
    }
   ],
   "source": [
    "knn_model.fit(X_train,y_train)"
   ]
  },
  {
   "cell_type": "code",
   "execution_count": 75,
   "id": "5630bd06",
   "metadata": {},
   "outputs": [],
   "source": [
    "knn_pred = knn_model.predict(X_test)"
   ]
  },
  {
   "cell_type": "code",
   "execution_count": 76,
   "id": "8a5ba665",
   "metadata": {},
   "outputs": [
    {
     "name": "stdout",
     "output_type": "stream",
     "text": [
      "              precision    recall  f1-score   support\n",
      "\n",
      "        ZP 1       0.93      0.97      0.95        29\n",
      "        ZP 2       0.89      0.89      0.89        28\n",
      "        ZP 3       1.00      0.78      0.88         9\n",
      "        ZP 4       0.89      0.92      0.91        26\n",
      "        ZP 5       0.91      0.91      0.91        23\n",
      "\n",
      "    accuracy                           0.91       115\n",
      "   macro avg       0.93      0.89      0.91       115\n",
      "weighted avg       0.91      0.91      0.91       115\n",
      "\n"
     ]
    }
   ],
   "source": [
    "print(classification_report(y_test,knn_pred))"
   ]
  },
  {
   "cell_type": "code",
   "execution_count": null,
   "id": "9b35f34b",
   "metadata": {},
   "outputs": [],
   "source": []
  }
 ],
 "metadata": {
  "kernelspec": {
   "display_name": "Python 3 (ipykernel)",
   "language": "python",
   "name": "python3"
  },
  "language_info": {
   "codemirror_mode": {
    "name": "ipython",
    "version": 3
   },
   "file_extension": ".py",
   "mimetype": "text/x-python",
   "name": "python",
   "nbconvert_exporter": "python",
   "pygments_lexer": "ipython3",
   "version": "3.9.7"
  }
 },
 "nbformat": 4,
 "nbformat_minor": 5
}
